{
  "nbformat": 4,
  "nbformat_minor": 0,
  "metadata": {
    "colab": {
      "provenance": [],
      "authorship_tag": "ABX9TyOKTAfr64csNiBtO9pJ1332",
      "include_colab_link": true
    },
    "kernelspec": {
      "name": "python3",
      "display_name": "Python 3"
    },
    "language_info": {
      "name": "python"
    }
  },
  "cells": [
    {
      "cell_type": "markdown",
      "metadata": {
        "id": "view-in-github",
        "colab_type": "text"
      },
      "source": [
        "<a href=\"https://colab.research.google.com/github/StevTMU/hw3_quick_sort/blob/main/Homework_3.ipynb\" target=\"_parent\"><img src=\"https://colab.research.google.com/assets/colab-badge.svg\" alt=\"Open In Colab\"/></a>"
      ]
    },
    {
      "cell_type": "code",
      "execution_count": 6,
      "metadata": {
        "colab": {
          "base_uri": "https://localhost:8080/"
        },
        "id": "CWqeE2OGAckN",
        "outputId": "85ee6384-3d00-4374-e022-e12158548118"
      },
      "outputs": [
        {
          "output_type": "stream",
          "name": "stdout",
          "text": [
            "原始列： [33, 67, 8, 13, 54, 119, 3, 84, 25, 41]\n",
            "快速排序串列： [3, 8, 13, 25, 33, 41, 54, 67, 84, 119]\n"
          ]
        }
      ],
      "source": [
        "import random\n",
        "def quick_sort(num_list):\n",
        "    if len(num_list) <= 1:\n",
        "        return num_list\n",
        "    left = []\n",
        "    right = []\n",
        "    piv = [] #取基準點的概念(pivot)\n",
        "    pivot = random.choice(num_list)\n",
        "    for val in num_list:\n",
        "        if val == pivot: #定位每個基準點\n",
        "            piv.append(val)\n",
        "        elif val < pivot: #小的在他左邊\n",
        "            left.append(val)\n",
        "        else: #大的在他右邊\n",
        "            right.append(val)\n",
        "    return quick_sort(left) + piv + quick_sort(right)\n",
        "\n",
        "num_data = [33, 67, 8, 13, 54, 119, 3, 84, 25, 41]\n",
        "\n",
        "print(\"原始列：\", num_data)\n",
        "print(\"快速排序串列：\", quick_sort(num_data))\n"
      ]
    }
  ]
}